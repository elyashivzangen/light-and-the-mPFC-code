{
 "cells": [
  {
   "cell_type": "code",
   "execution_count": 1,
   "metadata": {},
   "outputs": [],
   "source": [
    "import os\n",
    "import gc\n",
    "import pathlib\n",
    "import scipy.io\n",
    "import pandas as pd\n",
    "import numpy as np\n",
    "import datetime as dt\n",
    "from ctypes import *\n",
    "from pypl2 import pypl2api, pypl2lib"
   ]
  },
  {
   "cell_type": "markdown",
   "metadata": {},
   "source": [
    "### take trial type under consideration"
   ]
  },
  {
   "cell_type": "markdown",
   "metadata": {},
   "source": [
    "# handle files"
   ]
  },
  {
   "cell_type": "code",
   "execution_count": 2,
   "metadata": {},
   "outputs": [],
   "source": [
    "def get_files_list(dir_name, files_type):\n",
    "    files_list = []\n",
    "    full_dir_path = os.path.abspath(dir_name)\n",
    "    \n",
    "    for f in os.listdir(full_dir_path):\n",
    "        if f.endswith(files_type):\n",
    "            files_list.append((os.path.join(full_dir_path, f)))\n",
    "    return files_list"
   ]
  },
  {
   "cell_type": "code",
   "execution_count": 3,
   "metadata": {},
   "outputs": [],
   "source": [
    "matlab_files = [r'D:\\PHb\\Jan_07_2021_pHb\\seq2\\fov#01_trial#09_rep#01_logFile.mat', \n",
    "                r'D:\\PHb\\Jan_07_2021_pHb\\seq2\\fov#01_trial#10_rep#01_logFile.mat', \n",
    "                r'D:\\PHb\\Jan_07_2021_pHb\\seq2\\fov#01_trial#11_rep#01_logFile.mat']\n",
    "plexon_files = [r'D:\\PHb\\Jan_07_2021_pHb\\seq2\\dat008-01.pl2', \n",
    "                r'D:\\PHb\\Jan_07_2021_pHb\\seq2\\dat009-01.pl2', \n",
    "                r'D:\\PHb\\Jan_07_2021_pHb\\seq2\\dat010-01.pl2']"
   ]
  },
  {
   "cell_type": "markdown",
   "metadata": {},
   "source": [
    "# create df with the data"
   ]
  },
  {
   "cell_type": "code",
   "execution_count": 4,
   "metadata": {},
   "outputs": [],
   "source": [
    "def create_matlab_with_nd_df(matlab_files):\n",
    "    df = pd.DataFrame([{'matlab_filename': f, \n",
    "                        'ND': scipy.io.loadmat(f)['ND'][0][0], \n",
    "                        'matlab_time': scipy.io.loadmat(f)['startTime'][0]} for f in matlab_files])\n",
    "    df['matlab_time'] = pd.to_datetime(df['matlab_time'].astype('str'), format='%b.%d,%Y %H:%M:%S')\n",
    "    return df.sort_values(by=['matlab_time']).reset_index(drop=True)"
   ]
  },
  {
   "cell_type": "code",
   "execution_count": 5,
   "metadata": {},
   "outputs": [],
   "source": [
    "def create_intensity_df(filename):\n",
    "    intensity_values_df = pd.read_csv(filename, header=0, index_col=0)\n",
    "    return intensity_values_df"
   ]
  },
  {
   "cell_type": "code",
   "execution_count": 6,
   "metadata": {},
   "outputs": [],
   "source": [
    "intensity_values_df = create_intensity_df('10_intensities.csv')"
   ]
  },
  {
   "cell_type": "code",
   "execution_count": null,
   "metadata": {},
   "outputs": [],
   "source": []
  },
  {
   "cell_type": "code",
   "execution_count": 7,
   "metadata": {},
   "outputs": [],
   "source": [
    "def create_plexon_df(plexon_files):\n",
    "    df = pd.DataFrame(plexon_files, columns=['plexon_filename'])\n",
    "    \n",
    "    for i, filename in enumerate(plexon_files):\n",
    "        p = pypl2lib.PyPL2FileReader() # Create an instance of PyPL2FileReader.    \n",
    "        handle = p.pl2_open_file(filename) # Verify that the file passed exists first, if it does open the file\n",
    "        file_info = pypl2lib.PL2FileInfo() # Create instance of PL2FileInfo \n",
    "        res = p.pl2_get_file_info(handle, file_info)\n",
    "\n",
    "        df.loc[df['plexon_filename'] == filename, 'plexon_time'] = (dt.time(file_info.m_CreatorDateTime.tm_hour, \n",
    "                                                                            file_info.m_CreatorDateTime.tm_min, \n",
    "                                                                            file_info.m_CreatorDateTime.tm_sec))\n",
    "        \n",
    "    return df.sort_values(by=['plexon_time']).reset_index(drop=True)\n"
   ]
  },
  {
   "cell_type": "markdown",
   "metadata": {},
   "source": [
    "# load experiment data from files"
   ]
  },
  {
   "cell_type": "code",
   "execution_count": 8,
   "metadata": {},
   "outputs": [],
   "source": [
    "def extract_channels_data(filename, channels_num, channel_type): # TODO:: rename function\n",
    "    flag = True\n",
    "    for i in range(channels_num):\n",
    "        channel_name = '{}{:02d}'.format(channel_type, i+1)\n",
    "        adfrequency, n, timestamps, fragmentcounts, ad = pypl2api.pl2_ad(filename, channel_name)\n",
    "        if flag:\n",
    "            channels_ad = np.empty([channels_num, n])\n",
    "            flag = False\n",
    "        channels_ad[i] = ad\n",
    "    channels_ad = np.multiply(channels_ad, 1000000) #convert volts to microvolts\n",
    "    channels_ad = np.int16(channels_ad)\n",
    "    return n, channels_ad, adfrequency"
   ]
  },
  {
   "cell_type": "code",
   "execution_count": 9,
   "metadata": {},
   "outputs": [],
   "source": [
    "def extract_pl2_data_into_bin(plexon_files, files_df, output_file_path, channel_type, prefix=''):\n",
    "    for f, i in zip(plexon_files, range(len(plexon_files))):\n",
    "        n, channels_ad, adfrequency = extract_channels_data(f, 32, channel_type)\n",
    "        files_df.loc[files_df.plexon_filename == f, 'plexon_samples_num'] = n\n",
    "        files_df.loc[files_df.plexon_filename == f, 'ad_frequency'] = adfrequency\n",
    "        channels_ad.ravel(order='F').tofile('{}/{}sequence_{}.bin'.format(output_file_path, prefix, i + 1))\n",
    "        print(channels_ad.shape)\n",
    "        print(channels_ad.ravel(order='F').shape)\n",
    "        del channels_ad\n",
    "    return files_df"
   ]
  },
  {
   "cell_type": "code",
   "execution_count": 10,
   "metadata": {},
   "outputs": [],
   "source": [
    "trial_type = 'sequence'\n",
    "intensities_number = 10"
   ]
  },
  {
   "cell_type": "code",
   "execution_count": 11,
   "metadata": {},
   "outputs": [],
   "source": [
    "files_path = 'files/{}'.format(trial_type)\n",
    "matlab_files = get_files_list(files_path, '.mat')\n",
    "plexon_files = get_files_list(files_path, '.pl2')"
   ]
  },
  {
   "cell_type": "code",
   "execution_count": 12,
   "metadata": {},
   "outputs": [],
   "source": [
    "plexon_files_df = create_plexon_df(plexon_files)"
   ]
  },
  {
   "cell_type": "code",
   "execution_count": 13,
   "metadata": {},
   "outputs": [
    {
     "data": {
      "text/html": [
       "<div>\n",
       "<style scoped>\n",
       "    .dataframe tbody tr th:only-of-type {\n",
       "        vertical-align: middle;\n",
       "    }\n",
       "\n",
       "    .dataframe tbody tr th {\n",
       "        vertical-align: top;\n",
       "    }\n",
       "\n",
       "    .dataframe thead th {\n",
       "        text-align: right;\n",
       "    }\n",
       "</style>\n",
       "<table border=\"1\" class=\"dataframe\">\n",
       "  <thead>\n",
       "    <tr style=\"text-align: right;\">\n",
       "      <th></th>\n",
       "      <th>plexon_filename</th>\n",
       "      <th>plexon_time</th>\n",
       "    </tr>\n",
       "  </thead>\n",
       "  <tbody>\n",
       "    <tr>\n",
       "      <th>0</th>\n",
       "      <td>C:\\Users\\shirahad\\Documents\\research\\electroph...</td>\n",
       "      <td>08:52:31</td>\n",
       "    </tr>\n",
       "  </tbody>\n",
       "</table>\n",
       "</div>"
      ],
      "text/plain": [
       "                                     plexon_filename plexon_time\n",
       "0  C:\\Users\\shirahad\\Documents\\research\\electroph...    08:52:31"
      ]
     },
     "execution_count": 13,
     "metadata": {},
     "output_type": "execute_result"
    }
   ],
   "source": [
    "plexon_files_df"
   ]
  },
  {
   "cell_type": "code",
   "execution_count": null,
   "metadata": {},
   "outputs": [],
   "source": []
  },
  {
   "cell_type": "code",
   "execution_count": 14,
   "metadata": {},
   "outputs": [],
   "source": [
    "# create df with all the relevant data per file\n",
    "files_df = create_matlab_with_nd_df(matlab_files)"
   ]
  },
  {
   "cell_type": "code",
   "execution_count": 15,
   "metadata": {},
   "outputs": [],
   "source": [
    "files_df = pd.merge(files_df, plexon_files_df, left_index=True, right_index=True)"
   ]
  },
  {
   "cell_type": "code",
   "execution_count": 16,
   "metadata": {},
   "outputs": [
    {
     "ename": "KeyError",
     "evalue": "11",
     "output_type": "error",
     "traceback": [
      "\u001b[1;31m---------------------------------------------------------------------------\u001b[0m",
      "\u001b[1;31mValueError\u001b[0m                                Traceback (most recent call last)",
      "\u001b[1;32m~\\.conda\\envs\\env\\lib\\site-packages\\pandas\\core\\indexes\\range.py\u001b[0m in \u001b[0;36mget_loc\u001b[1;34m(self, key, method, tolerance)\u001b[0m\n\u001b[0;32m    350\u001b[0m                 \u001b[1;32mtry\u001b[0m\u001b[1;33m:\u001b[0m\u001b[1;33m\u001b[0m\u001b[1;33m\u001b[0m\u001b[0m\n\u001b[1;32m--> 351\u001b[1;33m                     \u001b[1;32mreturn\u001b[0m \u001b[0mself\u001b[0m\u001b[1;33m.\u001b[0m\u001b[0m_range\u001b[0m\u001b[1;33m.\u001b[0m\u001b[0mindex\u001b[0m\u001b[1;33m(\u001b[0m\u001b[0mnew_key\u001b[0m\u001b[1;33m)\u001b[0m\u001b[1;33m\u001b[0m\u001b[1;33m\u001b[0m\u001b[0m\n\u001b[0m\u001b[0;32m    352\u001b[0m                 \u001b[1;32mexcept\u001b[0m \u001b[0mValueError\u001b[0m \u001b[1;32mas\u001b[0m \u001b[0merr\u001b[0m\u001b[1;33m:\u001b[0m\u001b[1;33m\u001b[0m\u001b[1;33m\u001b[0m\u001b[0m\n",
      "\u001b[1;31mValueError\u001b[0m: 11 is not in range",
      "\nThe above exception was the direct cause of the following exception:\n",
      "\u001b[1;31mKeyError\u001b[0m                                  Traceback (most recent call last)",
      "\u001b[1;32m<ipython-input-16-036c0fcf0fc9>\u001b[0m in \u001b[0;36m<module>\u001b[1;34m\u001b[0m\n\u001b[1;32m----> 1\u001b[1;33m \u001b[0mfiles_df\u001b[0m\u001b[1;33m[\u001b[0m\u001b[1;34m'matlab_filename'\u001b[0m\u001b[1;33m]\u001b[0m\u001b[1;33m[\u001b[0m\u001b[1;36m11\u001b[0m\u001b[1;33m]\u001b[0m\u001b[1;33m\u001b[0m\u001b[1;33m\u001b[0m\u001b[0m\n\u001b[0m",
      "\u001b[1;32m~\\.conda\\envs\\env\\lib\\site-packages\\pandas\\core\\series.py\u001b[0m in \u001b[0;36m__getitem__\u001b[1;34m(self, key)\u001b[0m\n\u001b[0;32m    822\u001b[0m \u001b[1;33m\u001b[0m\u001b[0m\n\u001b[0;32m    823\u001b[0m         \u001b[1;32melif\u001b[0m \u001b[0mkey_is_scalar\u001b[0m\u001b[1;33m:\u001b[0m\u001b[1;33m\u001b[0m\u001b[1;33m\u001b[0m\u001b[0m\n\u001b[1;32m--> 824\u001b[1;33m             \u001b[1;32mreturn\u001b[0m \u001b[0mself\u001b[0m\u001b[1;33m.\u001b[0m\u001b[0m_get_value\u001b[0m\u001b[1;33m(\u001b[0m\u001b[0mkey\u001b[0m\u001b[1;33m)\u001b[0m\u001b[1;33m\u001b[0m\u001b[1;33m\u001b[0m\u001b[0m\n\u001b[0m\u001b[0;32m    825\u001b[0m \u001b[1;33m\u001b[0m\u001b[0m\n\u001b[0;32m    826\u001b[0m         \u001b[1;32mif\u001b[0m \u001b[0mis_hashable\u001b[0m\u001b[1;33m(\u001b[0m\u001b[0mkey\u001b[0m\u001b[1;33m)\u001b[0m\u001b[1;33m:\u001b[0m\u001b[1;33m\u001b[0m\u001b[1;33m\u001b[0m\u001b[0m\n",
      "\u001b[1;32m~\\.conda\\envs\\env\\lib\\site-packages\\pandas\\core\\series.py\u001b[0m in \u001b[0;36m_get_value\u001b[1;34m(self, label, takeable)\u001b[0m\n\u001b[0;32m    930\u001b[0m \u001b[1;33m\u001b[0m\u001b[0m\n\u001b[0;32m    931\u001b[0m         \u001b[1;31m# Similar to Index.get_value, but we do not fall back to positional\u001b[0m\u001b[1;33m\u001b[0m\u001b[1;33m\u001b[0m\u001b[1;33m\u001b[0m\u001b[0m\n\u001b[1;32m--> 932\u001b[1;33m         \u001b[0mloc\u001b[0m \u001b[1;33m=\u001b[0m \u001b[0mself\u001b[0m\u001b[1;33m.\u001b[0m\u001b[0mindex\u001b[0m\u001b[1;33m.\u001b[0m\u001b[0mget_loc\u001b[0m\u001b[1;33m(\u001b[0m\u001b[0mlabel\u001b[0m\u001b[1;33m)\u001b[0m\u001b[1;33m\u001b[0m\u001b[1;33m\u001b[0m\u001b[0m\n\u001b[0m\u001b[0;32m    933\u001b[0m         \u001b[1;32mreturn\u001b[0m \u001b[0mself\u001b[0m\u001b[1;33m.\u001b[0m\u001b[0mindex\u001b[0m\u001b[1;33m.\u001b[0m\u001b[0m_get_values_for_loc\u001b[0m\u001b[1;33m(\u001b[0m\u001b[0mself\u001b[0m\u001b[1;33m,\u001b[0m \u001b[0mloc\u001b[0m\u001b[1;33m,\u001b[0m \u001b[0mlabel\u001b[0m\u001b[1;33m)\u001b[0m\u001b[1;33m\u001b[0m\u001b[1;33m\u001b[0m\u001b[0m\n\u001b[0;32m    934\u001b[0m \u001b[1;33m\u001b[0m\u001b[0m\n",
      "\u001b[1;32m~\\.conda\\envs\\env\\lib\\site-packages\\pandas\\core\\indexes\\range.py\u001b[0m in \u001b[0;36mget_loc\u001b[1;34m(self, key, method, tolerance)\u001b[0m\n\u001b[0;32m    351\u001b[0m                     \u001b[1;32mreturn\u001b[0m \u001b[0mself\u001b[0m\u001b[1;33m.\u001b[0m\u001b[0m_range\u001b[0m\u001b[1;33m.\u001b[0m\u001b[0mindex\u001b[0m\u001b[1;33m(\u001b[0m\u001b[0mnew_key\u001b[0m\u001b[1;33m)\u001b[0m\u001b[1;33m\u001b[0m\u001b[1;33m\u001b[0m\u001b[0m\n\u001b[0;32m    352\u001b[0m                 \u001b[1;32mexcept\u001b[0m \u001b[0mValueError\u001b[0m \u001b[1;32mas\u001b[0m \u001b[0merr\u001b[0m\u001b[1;33m:\u001b[0m\u001b[1;33m\u001b[0m\u001b[1;33m\u001b[0m\u001b[0m\n\u001b[1;32m--> 353\u001b[1;33m                     \u001b[1;32mraise\u001b[0m \u001b[0mKeyError\u001b[0m\u001b[1;33m(\u001b[0m\u001b[0mkey\u001b[0m\u001b[1;33m)\u001b[0m \u001b[1;32mfrom\u001b[0m \u001b[0merr\u001b[0m\u001b[1;33m\u001b[0m\u001b[1;33m\u001b[0m\u001b[0m\n\u001b[0m\u001b[0;32m    354\u001b[0m             \u001b[1;32mraise\u001b[0m \u001b[0mKeyError\u001b[0m\u001b[1;33m(\u001b[0m\u001b[0mkey\u001b[0m\u001b[1;33m)\u001b[0m\u001b[1;33m\u001b[0m\u001b[1;33m\u001b[0m\u001b[0m\n\u001b[0;32m    355\u001b[0m         \u001b[1;32mreturn\u001b[0m \u001b[0msuper\u001b[0m\u001b[1;33m(\u001b[0m\u001b[1;33m)\u001b[0m\u001b[1;33m.\u001b[0m\u001b[0mget_loc\u001b[0m\u001b[1;33m(\u001b[0m\u001b[0mkey\u001b[0m\u001b[1;33m,\u001b[0m \u001b[0mmethod\u001b[0m\u001b[1;33m=\u001b[0m\u001b[0mmethod\u001b[0m\u001b[1;33m,\u001b[0m \u001b[0mtolerance\u001b[0m\u001b[1;33m=\u001b[0m\u001b[0mtolerance\u001b[0m\u001b[1;33m)\u001b[0m\u001b[1;33m\u001b[0m\u001b[1;33m\u001b[0m\u001b[0m\n",
      "\u001b[1;31mKeyError\u001b[0m: 11"
     ]
    }
   ],
   "source": [
    "files_df['matlab_filename'][11]"
   ]
  },
  {
   "cell_type": "code",
   "execution_count": 17,
   "metadata": {},
   "outputs": [],
   "source": [
    "#os.path.abspath('quantum_catch_melanopsin_vs_LED_ND_with-diffuser_in_vivo_rig.mat')\n",
    "intensity_values_df = create_intensity_df('{}_intensities.csv'.format(intensities_number))\n",
    "files_df = pd.merge(files_df, intensity_values_df, on='ND', how='left')"
   ]
  },
  {
   "cell_type": "code",
   "execution_count": 18,
   "metadata": {},
   "outputs": [
    {
     "name": "stdout",
     "output_type": "stream",
     "text": [
      "(32, 12716581)\n",
      "(406930592,)\n"
     ]
    }
   ],
   "source": [
    "# extract pl2 data into bin files and add number of samples per file to files_df\n",
    "files_df = extract_pl2_data_into_bin(files_df['plexon_filename'], files_df, files_path, 'WB')"
   ]
  },
  {
   "cell_type": "code",
   "execution_count": 19,
   "metadata": {},
   "outputs": [
    {
     "data": {
      "text/plain": [
       "'files/sequence'"
      ]
     },
     "execution_count": 19,
     "metadata": {},
     "output_type": "execute_result"
    }
   ],
   "source": [
    "files_path"
   ]
  },
  {
   "cell_type": "code",
   "execution_count": 20,
   "metadata": {},
   "outputs": [],
   "source": [
    "files_df = files_df.sort_values(by=['plexon_time']).reset_index(drop=True)"
   ]
  },
  {
   "cell_type": "code",
   "execution_count": 21,
   "metadata": {},
   "outputs": [
    {
     "data": {
      "text/html": [
       "<div>\n",
       "<style scoped>\n",
       "    .dataframe tbody tr th:only-of-type {\n",
       "        vertical-align: middle;\n",
       "    }\n",
       "\n",
       "    .dataframe tbody tr th {\n",
       "        vertical-align: top;\n",
       "    }\n",
       "\n",
       "    .dataframe thead th {\n",
       "        text-align: right;\n",
       "    }\n",
       "</style>\n",
       "<table border=\"1\" class=\"dataframe\">\n",
       "  <thead>\n",
       "    <tr style=\"text-align: right;\">\n",
       "      <th></th>\n",
       "      <th>matlab_filename</th>\n",
       "      <th>ND</th>\n",
       "      <th>matlab_time</th>\n",
       "      <th>plexon_filename</th>\n",
       "      <th>plexon_time</th>\n",
       "      <th>intensity</th>\n",
       "      <th>plexon_samples_num</th>\n",
       "      <th>ad_frequency</th>\n",
       "    </tr>\n",
       "  </thead>\n",
       "  <tbody>\n",
       "    <tr>\n",
       "      <th>0</th>\n",
       "      <td>C:\\Users\\shirahad\\Documents\\research\\electroph...</td>\n",
       "      <td>2</td>\n",
       "      <td>2022-06-09 08:52:31</td>\n",
       "      <td>C:\\Users\\shirahad\\Documents\\research\\electroph...</td>\n",
       "      <td>08:52:31</td>\n",
       "      <td>14.854108</td>\n",
       "      <td>12716581.0</td>\n",
       "      <td>40000.0</td>\n",
       "    </tr>\n",
       "  </tbody>\n",
       "</table>\n",
       "</div>"
      ],
      "text/plain": [
       "                                     matlab_filename  ND         matlab_time  \\\n",
       "0  C:\\Users\\shirahad\\Documents\\research\\electroph...   2 2022-06-09 08:52:31   \n",
       "\n",
       "                                     plexon_filename plexon_time  intensity  \\\n",
       "0  C:\\Users\\shirahad\\Documents\\research\\electroph...    08:52:31  14.854108   \n",
       "\n",
       "   plexon_samples_num  ad_frequency  \n",
       "0          12716581.0       40000.0  "
      ]
     },
     "execution_count": 21,
     "metadata": {},
     "output_type": "execute_result"
    }
   ],
   "source": [
    "files_df"
   ]
  },
  {
   "cell_type": "code",
   "execution_count": 22,
   "metadata": {},
   "outputs": [],
   "source": [
    "files_df.to_csv('{}/files_extracted_data_.csv'.format(files_path), sep=',', encoding='utf-8')"
   ]
  },
  {
   "cell_type": "code",
   "execution_count": 23,
   "metadata": {},
   "outputs": [],
   "source": [
    "def get_ts(filename, channel):\n",
    "    n, timestamps, values = pypl2api.pl2_events(filename, channel) \n",
    "    return pd.Series(timestamps)"
   ]
  },
  {
   "cell_type": "code",
   "execution_count": 24,
   "metadata": {},
   "outputs": [],
   "source": [
    "def create_ts_df(df, channel):\n",
    "    ts_df = pd.DataFrame()\n",
    "    ts_dict = {}\n",
    "    for nd in df['ND']:\n",
    "        files = df.loc[df['ND'] == nd, 'plexon_filename']\n",
    "        # reformat duplicated nds\n",
    "        for i, f in enumerate(files):\n",
    "            ts_dict['{}_{}'.format(nd, i)] = get_ts(f, channel)\n",
    "    return ts_df.from_dict(ts_dict)"
   ]
  },
  {
   "cell_type": "code",
   "execution_count": 25,
   "metadata": {},
   "outputs": [],
   "source": [
    "# create dfs for on, off ts per event\n",
    "on_df = create_ts_df(files_df, 10)\n",
    "off_df = create_ts_df(files_df, 11)\n",
    "# combine the on, off ts per event to 1 df \n",
    "combined_ts_df = pd.concat([on_df.add_suffix('_on'), off_df.add_suffix('_off')], axis=1, sort=False)\n",
    "# write the data to a csv file\n",
    "combined_ts_df.to_csv('{}/events_ts.csv'.format(files_path), sep=',', encoding='utf-8')"
   ]
  },
  {
   "cell_type": "code",
   "execution_count": 26,
   "metadata": {},
   "outputs": [
    {
     "data": {
      "text/html": [
       "<div>\n",
       "<style scoped>\n",
       "    .dataframe tbody tr th:only-of-type {\n",
       "        vertical-align: middle;\n",
       "    }\n",
       "\n",
       "    .dataframe tbody tr th {\n",
       "        vertical-align: top;\n",
       "    }\n",
       "\n",
       "    .dataframe thead th {\n",
       "        text-align: right;\n",
       "    }\n",
       "</style>\n",
       "<table border=\"1\" class=\"dataframe\">\n",
       "  <thead>\n",
       "    <tr style=\"text-align: right;\">\n",
       "      <th></th>\n",
       "      <th>2_0_on</th>\n",
       "      <th>2_0_off</th>\n",
       "    </tr>\n",
       "  </thead>\n",
       "  <tbody>\n",
       "    <tr>\n",
       "      <th>0</th>\n",
       "      <td>0.934650</td>\n",
       "      <td>3.014475</td>\n",
       "    </tr>\n",
       "    <tr>\n",
       "      <th>1</th>\n",
       "      <td>4.103125</td>\n",
       "      <td>6.179450</td>\n",
       "    </tr>\n",
       "    <tr>\n",
       "      <th>2</th>\n",
       "      <td>7.269250</td>\n",
       "      <td>9.343575</td>\n",
       "    </tr>\n",
       "    <tr>\n",
       "      <th>3</th>\n",
       "      <td>10.432975</td>\n",
       "      <td>12.506850</td>\n",
       "    </tr>\n",
       "    <tr>\n",
       "      <th>4</th>\n",
       "      <td>13.597425</td>\n",
       "      <td>15.675725</td>\n",
       "    </tr>\n",
       "    <tr>\n",
       "      <th>...</th>\n",
       "      <td>...</td>\n",
       "      <td>...</td>\n",
       "    </tr>\n",
       "    <tr>\n",
       "      <th>95</th>\n",
       "      <td>301.944350</td>\n",
       "      <td>304.020225</td>\n",
       "    </tr>\n",
       "    <tr>\n",
       "      <th>96</th>\n",
       "      <td>305.113100</td>\n",
       "      <td>307.190225</td>\n",
       "    </tr>\n",
       "    <tr>\n",
       "      <th>97</th>\n",
       "      <td>308.280850</td>\n",
       "      <td>310.358275</td>\n",
       "    </tr>\n",
       "    <tr>\n",
       "      <th>98</th>\n",
       "      <td>311.451175</td>\n",
       "      <td>313.529700</td>\n",
       "    </tr>\n",
       "    <tr>\n",
       "      <th>99</th>\n",
       "      <td>314.620875</td>\n",
       "      <td>316.697125</td>\n",
       "    </tr>\n",
       "  </tbody>\n",
       "</table>\n",
       "<p>100 rows × 2 columns</p>\n",
       "</div>"
      ],
      "text/plain": [
       "        2_0_on     2_0_off\n",
       "0     0.934650    3.014475\n",
       "1     4.103125    6.179450\n",
       "2     7.269250    9.343575\n",
       "3    10.432975   12.506850\n",
       "4    13.597425   15.675725\n",
       "..         ...         ...\n",
       "95  301.944350  304.020225\n",
       "96  305.113100  307.190225\n",
       "97  308.280850  310.358275\n",
       "98  311.451175  313.529700\n",
       "99  314.620875  316.697125\n",
       "\n",
       "[100 rows x 2 columns]"
      ]
     },
     "execution_count": 26,
     "metadata": {},
     "output_type": "execute_result"
    }
   ],
   "source": [
    "combined_ts_df"
   ]
  },
  {
   "cell_type": "code",
   "execution_count": null,
   "metadata": {},
   "outputs": [],
   "source": [
    "gc.collect()"
   ]
  },
  {
   "cell_type": "code",
   "execution_count": null,
   "metadata": {},
   "outputs": [],
   "source": [
    "def merge_bins_to_one_bin(files_path, num_of_files, prefix=''):\n",
    "    output_file = '{}/sequence.bin'.format(files_path)\n",
    "    for i in range(1, num_of_files):\n",
    "        with open(output_file, 'ab') as out_file, open('{}/{}sequence_{}.bin'.format(files_path, prefix, i), 'rb') as in_file:\n",
    "            out_file.write(in_file.read())\n",
    "    return"
   ]
  },
  {
   "cell_type": "code",
   "execution_count": null,
   "metadata": {},
   "outputs": [],
   "source": [
    "from scipy.io import FortranFile\n",
    "\n",
    "def merge_bins_to_one_bin_fortran(files_path, num_of_files, prefix=''):\n",
    "    output_file = '{}/sequence_fortran.bin'.format(files_path)\n",
    "    f = FortranFile(output_file, 'w')\n",
    "    for i in range(1, num_of_files):\n",
    "        with open('{}/{}sequence_{}.bin'.format(files_path, prefix, i), 'rb') as in_file:\n",
    "            f.write_record(in_file.read())\n",
    "    f.close()\n",
    "    return"
   ]
  },
  {
   "cell_type": "code",
   "execution_count": null,
   "metadata": {},
   "outputs": [],
   "source": [
    "merge_bins_to_one_bin(files_path, len(files_df) + 1)"
   ]
  },
  {
   "cell_type": "code",
   "execution_count": null,
   "metadata": {},
   "outputs": [],
   "source": [
    "merge_bins_to_one_bin_fortran(files_path, len(files_df) + 1)"
   ]
  },
  {
   "cell_type": "code",
   "execution_count": null,
   "metadata": {},
   "outputs": [],
   "source": []
  },
  {
   "cell_type": "code",
   "execution_count": null,
   "metadata": {},
   "outputs": [],
   "source": [
    "# load npy data to 1 matrix and write it to 1 binary file (according to kilosort's requirements)\n",
    "data = load_npy_to_one_matrix(files_df['plexon_filename'], files_path)\n",
    "data.ravel(order='F').tofile('{}/sequence.bin'.format(files_path))\n",
    "del data"
   ]
  },
  {
   "cell_type": "code",
   "execution_count": null,
   "metadata": {},
   "outputs": [],
   "source": []
  },
  {
   "cell_type": "code",
   "execution_count": null,
   "metadata": {},
   "outputs": [],
   "source": []
  },
  {
   "cell_type": "code",
   "execution_count": null,
   "metadata": {},
   "outputs": [],
   "source": [
    "parent_dir_path = r'C:\\Users\\shirahad\\Documents\\research\\electrophysiology\\analyze_electrophysiology_data\\pl2kilosort'\n",
    "files_path = 'files/{}'.format(trial_type)\n",
    "full_files_path = os.path.join(parent_dir_path, files_path)\n",
    "matlab_files = get_files_list(full_files_path, '.mat')\n",
    "plexon_files = get_files_list(full_files_path, '.pl2')\n",
    "\n",
    "# create df with all the relevant data per file\n",
    "files_df = create_matlab_with_nd_df(matlab_files)\n",
    "plexon_files_df = create_plexon_df(plexon_files)\n",
    "files_df = pd.merge(files_df, plexon_files_df, left_index=True, right_index=True) # merge matlab and plexon dfs\n",
    "intensity_file_path = os.path.join(parent_dir_path, '{}_intensities.csv'.format(intensities_number))\n",
    "intensity_values_df = create_intensity_df(intensity_file_path)\n",
    "files_df = pd.merge(files_df, intensity_values_df, on='ND') # add intensities data to files_df\n",
    "#files_df['plexon_filename'] = plexon_files_df\n",
    "\n",
    "# extract pl2 data into bin files and add number of samples per file to files_df\n",
    "#files_df = extract_pl2_data_into_bin(files_df['plexon_filename'], files_df, files_path, 'WB')\n",
    "\n",
    "files_df = files_df.sort_values(by=['plexon_time']) # sort df according to time of trial\n",
    "# write the data to csv files\n",
    "files_df.to_csv('{}/files_extracted_data_.csv'.format(files_path), sep=',', encoding='utf-8')"
   ]
  },
  {
   "cell_type": "code",
   "execution_count": null,
   "metadata": {},
   "outputs": [],
   "source": [
    "plexon_files_df"
   ]
  },
  {
   "cell_type": "markdown",
   "metadata": {},
   "source": [
    "# main function"
   ]
  },
  {
   "cell_type": "code",
   "execution_count": null,
   "metadata": {},
   "outputs": [],
   "source": [
    "def pl2kilosort(trial_type, intensities_number):\n",
    "    # get files list\n",
    "    parent_dir_path = pathlib.Path(__file__).parent.absolute()\n",
    "    files_path = 'files/{}'.format(trial_type)\n",
    "    full_files_path = os.path.join(parent_dir_path, files_path)\n",
    "    matlab_files = get_files_list(full_files_path, '.mat')\n",
    "    plexon_files = get_files_list(full_files_path, '.pl2')\n",
    "    \n",
    "    # create df with all the relevant data per file\n",
    "    files_df = create_matlab_with_nd_df(matlab_files)\n",
    "    plexon_files_df = create_plexon_df(plexon_files)\n",
    "    files_df = pd.merge(files_df, plexon_files_df, left_index=True, right_index=True) # merge matlab and plexon dfs\n",
    "    intensity_file_path = os.path.join(parent_dir_path, '{}_intensities.csv'.format(intensities_number))\n",
    "    intensity_values_df = create_intensity_df(intensity_file_path)\n",
    "    files_df = pd.merge(files_df, intensity_values_df, on='ND') # add intensities data to files_df\n",
    "    files_df['plexon_filename'] = plexon_files\n",
    "    \n",
    "    # extract pl2 data into bin files and add number of samples per file to files_df\n",
    "    files_df = extract_pl2_data_into_bin(files_df['plexon_filename'], files_df, files_path, 'WB')\n",
    "    \n",
    "    files_df = files_df.sort_values(by=['plexon_time']) # sort df according to time of trial\n",
    "    # write the data to csv files\n",
    "    files_df.to_csv('{}/files_extracted_data_.csv'.format(files_path), sep=',', encoding='utf-8')\n",
    "    # create dfs for on, off ts per event\n",
    "    on_df = create_ts_df(files_df, 10)\n",
    "    off_df = create_ts_df(files_df, 11)\n",
    "    # combine the on, off ts per event to 1 df \n",
    "    combined_ts_df = pd.concat([on_df.add_suffix('_on'), off_df.add_suffix('_off')], axis=1, sort=False)\n",
    "    # write the data to a csv file\n",
    "    combined_ts_df.to_csv('{}/events_ts.csv'.format(files_path), sep=',', encoding='utf-8')\n",
    "    \n",
    "    # garbage collection\n",
    "    gc.collect()\n",
    "    \n",
    "    # merge all bin files to 1 binary file (according to kilosort's requirements)\n",
    "    merge_bins_to_one_bin(files_path, len(files_df) + 1)\n",
    "    \n",
    "    return"
   ]
  }
 ],
 "metadata": {
  "kernelspec": {
   "display_name": "Python 3",
   "language": "python",
   "name": "python3"
  },
  "language_info": {
   "codemirror_mode": {
    "name": "ipython",
    "version": 3
   },
   "file_extension": ".py",
   "mimetype": "text/x-python",
   "name": "python",
   "nbconvert_exporter": "python",
   "pygments_lexer": "ipython3",
   "version": "3.8.10"
  }
 },
 "nbformat": 4,
 "nbformat_minor": 4
}
