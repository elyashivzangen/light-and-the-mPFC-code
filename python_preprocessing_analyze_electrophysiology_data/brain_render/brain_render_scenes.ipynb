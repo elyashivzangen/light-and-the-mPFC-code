{
 "cells": [
  {
   "cell_type": "code",
   "execution_count": 1,
   "metadata": {},
   "outputs": [],
   "source": [
    "import os\n",
    "import numpy as np\n",
    "import pandas as pd\n",
    "from brainrender import Scene, Animation, settings\n",
    "from brainrender.actors import Points\n",
    "from brainrender._colors import get_random_colors\n",
    "from brainrender._video import Video\n",
    "from vedo import embedWindow, Plotter, show\n",
    "from brainrender.video import VideoMaker\n",
    "import brainrender as br\n",
    "from myterial import amber, orange, salmon\n",
    "from scipy.spatial.distance import pdist"
   ]
  },
  {
   "cell_type": "code",
   "execution_count": 2,
   "metadata": {},
   "outputs": [],
   "source": [
    "directory = r'C:\\Users\\shirahad\\Documents\\research\\electrophysiology\\analyze_electrophysiology_data\\brain_render\\files'"
   ]
  },
  {
   "cell_type": "code",
   "execution_count": 3,
   "metadata": {},
   "outputs": [],
   "source": [
    "probes_number = 0\n",
    "clusters_sets_number = 1\n",
    "scene_title = 'clusters mapping'\n",
    "brain_regions = ['ILA1', 'ILA2/3', 'ILA5']\n",
    "#brain_regions = ['ACAd1', 'ACAd2/3', 'ACAd5', 'ILA1', 'ILA2/3', 'ILA5', 'PL1', 'PL2/3', 'PL5'] #['DG', 'MD', 'LH']"
   ]
  },
  {
   "cell_type": "code",
   "execution_count": 4,
   "metadata": {},
   "outputs": [],
   "source": [
    "clusters_sets_files = ['clustering_data.csv']\n",
    "probes_files = []"
   ]
  },
  {
   "cell_type": "code",
   "execution_count": null,
   "metadata": {},
   "outputs": [],
   "source": [
    "probes_files = ['probe_coordinates.csv'] #['probe_coordinates_1.csv', 'probe_coordinates_2.csv']\n",
    "clusters_sets_files = ['clusters_coordinates.csv'] #['clusters_coordinates_1.csv', 'clusters_coordinates_2.csv']"
   ]
  },
  {
   "cell_type": "code",
   "execution_count": 5,
   "metadata": {},
   "outputs": [],
   "source": [
    "def add_probes_to_scene(scene, probes_number, probes_files, directory):\n",
    "    if probes_files is None:\n",
    "        return scene\n",
    "    probes_colors = get_random_colors(n_colors=probes_number)\n",
    "    for probe_file, probe_color in zip(probes_files, probes_colors):\n",
    "        probe_file_full_path = os.path.join(directory, probe_file)   \n",
    "        probe_coordinates = np.loadtxt(open(probe_file_full_path, 'r'), delimiter=',', skiprows=1, usecols=(3, 2, 1))   \n",
    "        brain_regions = pd.read_csv(probe_file_full_path, header=0, index_col=0, usecols=['id', 'region_acronym']).drop_duplicates() \n",
    "        # Add to scene\n",
    "        scene.add(Points(probe_coordinates, name='probe', colors=probe_color))\n",
    "        # Add relevant brain regions\n",
    "        scene = add_brain_regions_to_scene(scene, brain_regions['region_acronym'].tolist())\n",
    "    return scene"
   ]
  },
  {
   "cell_type": "code",
   "execution_count": null,
   "metadata": {},
   "outputs": [],
   "source": []
  },
  {
   "cell_type": "code",
   "execution_count": 48,
   "metadata": {},
   "outputs": [],
   "source": [
    "def add_clustering_sets_to_scene(scene, clusters_sets_files, directory):\n",
    "    for clusters_file in clusters_sets_files:\n",
    "        clusters_file_full_path = os.path.join(directory, clusters_file)\n",
    "        clusters_df = pd.read_csv(clusters_file_full_path, header=0, index_col=0, usecols=['id', 'x', 'y', 'z', 'cluster']) \n",
    "        cluster_groups = clusters_df.groupby(['cluster'])\n",
    "        colors = get_random_colors(n_colors=len(cluster_groups))\n",
    "        # Add to scene\n",
    "        for (name, group), color in zip(cluster_groups, colors):\n",
    "            clusters_coordinates = group[['z', 'y', 'x']].to_numpy() # AP, DV, ML\n",
    "            scene.add(Points(clusters_coordinates, name='cluster_{}'.format(name), colors=color))\n",
    "    return scene"
   ]
  },
  {
   "cell_type": "code",
   "execution_count": null,
   "metadata": {},
   "outputs": [],
   "source": []
  },
  {
   "cell_type": "code",
   "execution_count": null,
   "metadata": {},
   "outputs": [],
   "source": []
  },
  {
   "cell_type": "code",
   "execution_count": 8,
   "metadata": {},
   "outputs": [],
   "source": [
    "def add_clusters_to_scene(scene, clusters_sets_files, directory):\n",
    "    for clusters_file in clusters_sets_files:\n",
    "        clusters_file_full_path = os.path.join(directory, clusters_file)\n",
    "        clusters_coordinates = np.loadtxt(open(clusters_file_full_path, 'r'), delimiter=',', skiprows=1, usecols=(3, 2, 1))\n",
    "        colors = get_random_colors(n_colors=len(clusters_coordinates))\n",
    "        scene.add(Points(clusters_coordinates, name='clusters', colors=colors)) # add to scene\n",
    "    return scene"
   ]
  },
  {
   "cell_type": "code",
   "execution_count": 9,
   "metadata": {},
   "outputs": [],
   "source": [
    "def add_brain_regions_to_scene(scene, brain_regions):\n",
    "    colors = get_random_colors(n_colors=len(brain_regions))\n",
    "    for region, color in zip(brain_regions, colors):\n",
    "        scene.add_brain_region(region, alpha=0.2, color=color)\n",
    "    return scene"
   ]
  },
  {
   "cell_type": "code",
   "execution_count": null,
   "metadata": {},
   "outputs": [],
   "source": []
  },
  {
   "cell_type": "code",
   "execution_count": 49,
   "metadata": {},
   "outputs": [
    {
     "data": {
      "text/html": [
       "<pre style=\"white-space:pre;overflow-x:auto;line-height:normal;font-family:Menlo,'DejaVu Sans Mono',consolas,'Courier New',monospace\">╭───────────────────────────────────────────────────────────╮\n",
       "│                                                           │\n",
       "│   Scene actors                                            │\n",
       "│   ────────────                                            │\n",
       "│                                                           │\n",
       "│   - root <span style=\"font-weight: bold\">(</span>type: brain region<span style=\"font-weight: bold\">)</span> | is transformed: <span style=\"color: #ff0000; font-style: italic\">False</span>     │\n",
       "│   - Actor <span style=\"font-weight: bold\">(</span>type: <span style=\"color: #800080; font-style: italic\">None</span><span style=\"font-weight: bold\">)</span> | is transformed: <span style=\"color: #ff0000; font-style: italic\">False</span>            │\n",
       "│   - cluster_1 <span style=\"font-weight: bold\">(</span>type: Points<span style=\"font-weight: bold\">)</span> | is transformed: <span style=\"color: #ff0000; font-style: italic\">False</span>      │\n",
       "│   - cluster_2 <span style=\"font-weight: bold\">(</span>type: Points<span style=\"font-weight: bold\">)</span> | is transformed: <span style=\"color: #ff0000; font-style: italic\">False</span>      │\n",
       "│   - cluster_3 <span style=\"font-weight: bold\">(</span>type: Points<span style=\"font-weight: bold\">)</span> | is transformed: <span style=\"color: #ff0000; font-style: italic\">False</span>      │\n",
       "│   - ILA1 <span style=\"font-weight: bold\">(</span>type: brain region<span style=\"font-weight: bold\">)</span> | is transformed: <span style=\"color: #ff0000; font-style: italic\">False</span>     │\n",
       "│   - ILA2/<span style=\"color: #000080; font-weight: bold\">3</span> <span style=\"font-weight: bold\">(</span>type: brain region<span style=\"font-weight: bold\">)</span> | is transformed: <span style=\"color: #ff0000; font-style: italic\">False</span>   │\n",
       "│   - ILA5 <span style=\"font-weight: bold\">(</span>type: brain region<span style=\"font-weight: bold\">)</span> | is transformed: <span style=\"color: #ff0000; font-style: italic\">False</span>     │\n",
       "│                                                           │\n",
       "╰───────────────────────────────────────────────────────────╯\n",
       "\n",
       "</pre>\n"
      ]
     },
     "metadata": {},
     "output_type": "display_data"
    },
    {
     "name": "stdout",
     "output_type": "stream",
     "text": [
      "\u001b[1m\u001b[38;2;255;0;0mError in silhouette(): direction is [None]\u001b[0m\n",
      "\u001b[1m\u001b[38;2;255;0;0m render the scene with show() or specify camera/direction\u001b[0m\n",
      "\u001b[1m\u001b[38;2;255;0;0mError in silhouette(): direction is [None]\u001b[0m\n",
      "\u001b[1m\u001b[38;2;255;0;0m render the scene with show() or specify camera/direction\u001b[0m\n",
      "\u001b[1m\u001b[38;2;255;0;0mError in silhouette(): direction is [None]\u001b[0m\n",
      "\u001b[1m\u001b[38;2;255;0;0m render the scene with show() or specify camera/direction\u001b[0m\n",
      "\u001b[1m\u001b[38;2;255;0;0mError in silhouette(): direction is [None]\u001b[0m\n",
      "\u001b[1m\u001b[38;2;255;0;0m render the scene with show() or specify camera/direction\u001b[0m\n"
     ]
    },
    {
     "data": {
      "text/html": [
       "<pre style=\"white-space:pre;overflow-x:auto;line-height:normal;font-family:Menlo,'DejaVu Sans Mono',consolas,'Courier New',monospace\">Your scene is ready for rendering, use: `show<span style=\"font-weight: bold\">(</span>scene.renderables<span style=\"font-weight: bold\">)</span>`\n",
       "</pre>\n"
      ]
     },
     "metadata": {},
     "output_type": "display_data"
    },
    {
     "data": {
      "application/vnd.jupyter.widget-view+json": {
       "model_id": "1f158a5be2054c2fab1188674d5bc944",
       "version_major": 2,
       "version_minor": 0
      },
      "text/plain": [
       "Plot(antialias=3, axes=['x', 'y', 'z'], axes_helper=1.0, background_color=16777215, camera=[6771.671281616228,…"
      ]
     },
     "metadata": {},
     "output_type": "display_data"
    }
   ],
   "source": [
    "scene = Scene(title=scene_title)\n",
    "\n",
    "clustering = list(filter(lambda x: 'clusters_coordinates' not in x, clusters_sets_files))\n",
    "cells = list(filter(lambda x: 'clusters_coordinates' in x, clusters_sets_files))\n",
    "\n",
    "if probes_files is not None:\n",
    "    scene = add_probes_to_scene(scene, probes_number, probes_files, directory)\n",
    "if not 0 == len(clustering):\n",
    "    scene = add_clustering_sets_to_scene(scene, clusters_sets_files, directory)\n",
    "if not 0 == len(cells):\n",
    "    scene = add_clusters_to_scene(scene, clusters_sets_files, directory)\n",
    "scene = add_brain_regions_to_scene(scene, brain_regions)\n",
    "\n",
    "scene.content\n",
    "scene.render()\n",
    "\n",
    "embedWindow('k3d')\n",
    "\n",
    "scene.jupyter = True\n",
    "\n",
    "plt = Plotter()\n",
    "plt.show(*scene.renderables)"
   ]
  },
  {
   "cell_type": "code",
   "execution_count": null,
   "metadata": {},
   "outputs": [],
   "source": []
  }
 ],
 "metadata": {
  "kernelspec": {
   "display_name": "Python 3",
   "language": "python",
   "name": "python3"
  },
  "language_info": {
   "codemirror_mode": {
    "name": "ipython",
    "version": 3
   },
   "file_extension": ".py",
   "mimetype": "text/x-python",
   "name": "python",
   "nbconvert_exporter": "python",
   "pygments_lexer": "ipython3",
   "version": "3.8.12"
  }
 },
 "nbformat": 4,
 "nbformat_minor": 4
}
