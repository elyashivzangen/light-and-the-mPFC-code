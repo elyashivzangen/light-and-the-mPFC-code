{
 "cells": [
  {
   "cell_type": "code",
   "execution_count": 1,
   "metadata": {},
   "outputs": [],
   "source": [
    "import os\n",
    "import numpy as np\n",
    "import pandas as pd\n",
    "from os import listdir\n",
    "from os.path import isfile, join"
   ]
  },
  {
   "cell_type": "code",
   "execution_count": 2,
   "metadata": {},
   "outputs": [],
   "source": [
    "directory = r'C:\\Users\\shirahad\\Documents\\research\\electrophysiology\\analyze_electrophysiology_data\\psth\\files'"
   ]
  },
  {
   "cell_type": "markdown",
   "metadata": {},
   "source": [
    "# PAY ATTENTION TO 7 OR 10 INTENSITIES"
   ]
  },
  {
   "cell_type": "code",
   "execution_count": 3,
   "metadata": {},
   "outputs": [
    {
     "data": {
      "text/html": [
       "<div>\n",
       "<style scoped>\n",
       "    .dataframe tbody tr th:only-of-type {\n",
       "        vertical-align: middle;\n",
       "    }\n",
       "\n",
       "    .dataframe tbody tr th {\n",
       "        vertical-align: top;\n",
       "    }\n",
       "\n",
       "    .dataframe thead th {\n",
       "        text-align: right;\n",
       "    }\n",
       "</style>\n",
       "<table border=\"1\" class=\"dataframe\">\n",
       "  <thead>\n",
       "    <tr style=\"text-align: right;\">\n",
       "      <th></th>\n",
       "      <th>ND</th>\n",
       "      <th>intensity</th>\n",
       "    </tr>\n",
       "  </thead>\n",
       "  <tbody>\n",
       "    <tr>\n",
       "      <th>0</th>\n",
       "      <td>7</td>\n",
       "      <td>9.354108</td>\n",
       "    </tr>\n",
       "    <tr>\n",
       "      <th>1</th>\n",
       "      <td>6</td>\n",
       "      <td>10.354108</td>\n",
       "    </tr>\n",
       "    <tr>\n",
       "      <th>2</th>\n",
       "      <td>5</td>\n",
       "      <td>11.354108</td>\n",
       "    </tr>\n",
       "    <tr>\n",
       "      <th>3</th>\n",
       "      <td>4</td>\n",
       "      <td>12.354108</td>\n",
       "    </tr>\n",
       "    <tr>\n",
       "      <th>4</th>\n",
       "      <td>3</td>\n",
       "      <td>13.354108</td>\n",
       "    </tr>\n",
       "    <tr>\n",
       "      <th>5</th>\n",
       "      <td>2</td>\n",
       "      <td>14.354108</td>\n",
       "    </tr>\n",
       "    <tr>\n",
       "      <th>6</th>\n",
       "      <td>1</td>\n",
       "      <td>15.354108</td>\n",
       "    </tr>\n",
       "  </tbody>\n",
       "</table>\n",
       "</div>"
      ],
      "text/plain": [
       "   ND  intensity\n",
       "0   7   9.354108\n",
       "1   6  10.354108\n",
       "2   5  11.354108\n",
       "3   4  12.354108\n",
       "4   3  13.354108\n",
       "5   2  14.354108\n",
       "6   1  15.354108"
      ]
     },
     "execution_count": 3,
     "metadata": {},
     "output_type": "execute_result"
    }
   ],
   "source": [
    "intensities_file_path = r'C:\\Users\\shirahad\\Documents\\research\\electrophysiology\\analyze_electrophysiology_data\\pl2kilosort\\7_intensities.csv'\n",
    "intensities_df = pd.read_csv(intensities_file_path, header=0, index_col=0)\n",
    "intensities_df"
   ]
  },
  {
   "cell_type": "code",
   "execution_count": 13,
   "metadata": {},
   "outputs": [],
   "source": [
    "clustering_file_path = r'D:\\new_mapping_results\\clustering\\PHb\\clustering_data.csv'\n",
    "clustering_df = pd.read_csv(clustering_file_path, header=0, index_col=0)"
   ]
  },
  {
   "cell_type": "code",
   "execution_count": 14,
   "metadata": {},
   "outputs": [],
   "source": [
    "clusters_groups = clustering_df[['cluster', 'prefix']].groupby('prefix')"
   ]
  },
  {
   "cell_type": "code",
   "execution_count": 15,
   "metadata": {},
   "outputs": [],
   "source": [
    "files = [f for f in listdir(directory) if isfile(join(directory, f))]"
   ]
  },
  {
   "cell_type": "code",
   "execution_count": 17,
   "metadata": {},
   "outputs": [],
   "source": [
    "working_directory = r'C:\\Users\\shirahad\\Documents\\research\\electrophysiology\\analyze_electrophysiology_data\\psth'\n",
    "idx = pd.IndexSlice\n",
    "\n",
    "for f in files:\n",
    "    group = [group for (key, group) in clusters_groups if f.startswith(key)][0]\n",
    "    response_df = pd.read_csv(os.path.join(directory, f), header=[0, 1, 2], index_col=0)\n",
    "    nds = response_df.columns.get_level_values('nd').unique()\n",
    "    cluster_ids = response_df.columns.get_level_values('id').unique()\n",
    "    mean_df = pd.DataFrame(columns=[cluster_ids.sort_values(), group['cluster']], index=nds)\n",
    "    mean_df = mean_df.apply(lambda x: response_df.loc[:, idx[x.name, :, 'mean']].T.set_index(intensities_df['intensity'], drop=True)[0])\n",
    "    mean_df.to_csv(r'{}\\files\\{}_mean.csv'.format(working_directory, f[: -4]), sep=',', encoding='utf-8')"
   ]
  },
  {
   "cell_type": "code",
   "execution_count": null,
   "metadata": {},
   "outputs": [],
   "source": []
  }
 ],
 "metadata": {
  "kernelspec": {
   "display_name": "Python 3",
   "language": "python",
   "name": "python3"
  },
  "language_info": {
   "codemirror_mode": {
    "name": "ipython",
    "version": 3
   },
   "file_extension": ".py",
   "mimetype": "text/x-python",
   "name": "python",
   "nbconvert_exporter": "python",
   "pygments_lexer": "ipython3",
   "version": "3.8.5"
  }
 },
 "nbformat": 4,
 "nbformat_minor": 4
}
